{
 "cells": [
  {
   "cell_type": "markdown",
   "metadata": {},
   "source": [
    "## Get The text from the PDF"
   ]
  },
  {
   "cell_type": "code",
   "execution_count": null,
   "metadata": {},
   "outputs": [],
   "source": [
    "%pip install pdfplumber pytesseract pdf2image"
   ]
  },
  {
   "cell_type": "code",
   "execution_count": 1,
   "metadata": {},
   "outputs": [],
   "source": [
    "import pdfplumber\n",
    "import pytesseract\n",
    "from pdf2image import convert_from_path"
   ]
  },
  {
   "cell_type": "code",
   "execution_count": 2,
   "metadata": {},
   "outputs": [],
   "source": [
    "def extract_text_from_pdf(pdf_path):\n",
    "    text = \"\"\n",
    "    try:\n",
    "        # Try direct text extraction\n",
    "        with pdfplumber.open(pdf_path) as pdf:\n",
    "            for page in pdf.pages:\n",
    "                page_text = page.extract_text()\n",
    "                if page_text:\n",
    "                    text += page_text\n",
    "\n",
    "        if text.strip():\n",
    "            return text.strip()\n",
    "    except Exception as e:\n",
    "        print(f\"Direct text extraction failed: {e}\")\n",
    "\n",
    "    # Fallback to OCR for image-based PDFs\n",
    "    print(\"Falling back to OCR for image-based PDF.\")\n",
    "    try:\n",
    "        images = convert_from_path(pdf_path)\n",
    "        for image in images:\n",
    "            page_text = pytesseract.image_to_string(image)\n",
    "            text += page_text + \"\\n\"\n",
    "    except Exception as e:\n",
    "        print(f\"OCR failed: {e}\")\n",
    "\n",
    "    return text.strip()"
   ]
  },
  {
   "cell_type": "code",
   "execution_count": 3,
   "metadata": {},
   "outputs": [
    {
     "name": "stdout",
     "output_type": "stream",
     "text": [
      "\n",
      "Extracted Text from PDF:\n",
      "SUJOY DUTTA\n",
      "West Bengal, India | P: +xxxxxxxxxx | xxxxxxxxxxxxxx@gmail.com | https://www.linkedin.com/in/dutta-sujoy/\n",
      "3rd-year Computer Science student at KIIT with expertise in Machine Learning and Deep Learning, and\n",
      "practical experience in developing predictive models and recommendation systems. Focused on leveraging\n",
      "technology to address real-world challenges, currently engaged in a Generative AI project for predictive\n",
      "maintenance in manufacturing.\n",
      "EDUCATION\n",
      "KALINGA INSTITUTE OF INDUSTRIAL TECHNOLOGY Bhubaneswar, Odisha\n",
      "Bachelor in Computer Science and Engineering Expected July 2026\n",
      "Cumulative GPA: 8.48 / 10.0\n",
      "Relevant Coursework: Data Structures; Databases; Operating Systems; Algorithms; Object-oriented\n",
      "programming;\n",
      "PROJECTS\n",
      "Movie Recommendation System\n",
      "Developed a content-based recommendation system using a similarity matrix to enhance movie\n",
      "suggestions based on user preferences.\n",
      "Integrated the TMDB API to fetch and display detailed information and posters for over 10,000 movies.\n",
      "Implemented efficient similarity calculations to ensure accurate recommendations.\n",
      "Technologies Used: Python, Scikit-Learn, Streamlit, TMDB API\n",
      "GitHub Repo: https://github.com/dutta-sujoy/Movie-Recommendation-System\n",
      "House Price Prediction Model\n",
      "Developed a Random Forest model that achieved an accuracy of 85% in predicting house prices.\n",
      "Processed and analyzed data from 13,000+ housing records to enhance model performance.\n",
      "Designed a Streamlit application that reduced user input time by 50% and provided instant price\n",
      "predictions.\n",
      "Implemented feature engineering techniques that improved model precision by 15%.\n",
      "Technologies Used: Python, Scikit-Learn, Streamlit.\n",
      "GitHub Repo: https://github.com/dutta-sujoy/Bengaluru-House-Price-Prediction\n",
      "TECHNICAL SKILLS\n",
      "Programming Languages: Python, Java, C++\n",
      "Machine Learning: Scikit-Learn, TensorFlow, Keras, Supervised and Unsupervised Learning, GANs\n",
      "Generative Model\n",
      "Data Analysis: Pandas, NumPy, Matplotlib, Seaborn\n",
      "Database Management: SQL\n",
      "ACTIVITIES\n",
      "GeeksforGeeks KIIT Chapter February 2024 - Present\n",
      "( Core Developer )\n",
      "Collaborate with team members to build projects and develop technical solutions.\n",
      "AISoC February 2023 - Present\n",
      "( Core Member )\n",
      "Assisted in organizing workshops, coding events, and seminars for the student community.\n"
     ]
    }
   ],
   "source": [
    "pdf_path = \"Resume.pdf\"\n",
    "resume_text = extract_text_from_pdf(pdf_path)\n",
    "\n",
    "print(\"\\nExtracted Text from PDF:\")\n",
    "print(resume_text)"
   ]
  },
  {
   "cell_type": "markdown",
   "metadata": {},
   "source": [
    "## Set Google GenerativeAI Api Key"
   ]
  },
  {
   "cell_type": "code",
   "execution_count": null,
   "metadata": {},
   "outputs": [],
   "source": [
    "%pip install google.generativeai python-dotenv"
   ]
  },
  {
   "cell_type": "code",
   "execution_count": 4,
   "metadata": {},
   "outputs": [
    {
     "name": "stderr",
     "output_type": "stream",
     "text": [
      "c:\\Users\\KIIT\\AppData\\Local\\Programs\\Python\\Python312\\Lib\\site-packages\\tqdm\\auto.py:21: TqdmWarning: IProgress not found. Please update jupyter and ipywidgets. See https://ipywidgets.readthedocs.io/en/stable/user_install.html\n",
      "  from .autonotebook import tqdm as notebook_tqdm\n"
     ]
    }
   ],
   "source": [
    "import google.generativeai as genai\n",
    "import os\n",
    "from dotenv import load_dotenv\n",
    "\n",
    "load_dotenv()\n",
    "genai.configure(api_key=os.getenv(\"GOOGLE_API_KEY\"))\n",
    "model = genai.GenerativeModel(\"gemini-1.5-flash\")"
   ]
  },
  {
   "cell_type": "code",
   "execution_count": 5,
   "metadata": {},
   "outputs": [],
   "source": [
    "response = model.generate_content(\"What is the capital of India?\")\n"
   ]
  },
  {
   "cell_type": "code",
   "execution_count": 6,
   "metadata": {},
   "outputs": [
    {
     "name": "stdout",
     "output_type": "stream",
     "text": [
      "response:\n",
      "GenerateContentResponse(\n",
      "    done=True,\n",
      "    iterator=None,\n",
      "    result=protos.GenerateContentResponse({\n",
      "      \"candidates\": [\n",
      "        {\n",
      "          \"content\": {\n",
      "            \"parts\": [\n",
      "              {\n",
      "                \"text\": \"The capital of India is **New Delhi**.\\n\"\n",
      "              }\n",
      "            ],\n",
      "            \"role\": \"model\"\n",
      "          },\n",
      "          \"finish_reason\": \"STOP\",\n",
      "          \"avg_logprobs\": -0.002600635588169098\n",
      "        }\n",
      "      ],\n",
      "      \"usage_metadata\": {\n",
      "        \"prompt_token_count\": 8,\n",
      "        \"candidates_token_count\": 10,\n",
      "        \"total_token_count\": 18\n",
      "      }\n",
      "    }),\n",
      ")\n"
     ]
    }
   ],
   "source": [
    "print(response)"
   ]
  },
  {
   "cell_type": "code",
   "execution_count": 7,
   "metadata": {},
   "outputs": [
    {
     "name": "stdout",
     "output_type": "stream",
     "text": [
      "The capital of India is **New Delhi**.\n",
      "\n"
     ]
    }
   ],
   "source": [
    "print(response.text)"
   ]
  },
  {
   "cell_type": "markdown",
   "metadata": {},
   "source": [
    "## Resume Analysis"
   ]
  },
  {
   "cell_type": "code",
   "execution_count": 9,
   "metadata": {},
   "outputs": [],
   "source": [
    "def analyze_resume(resume_text, job_description=None):\n",
    "    if not resume_text:\n",
    "        return {\"error\": \"Resume text is required for analysis.\"}\n",
    "    \n",
    "    model = genai.GenerativeModel(\"gemini-1.5-flash\")\n",
    "    \n",
    "    base_prompt = f\"\"\"\n",
    "    You are an experienced HR with Technical Experience in the field of any one job role from Data Science, Data Analyst, DevOPS, Machine Learning Engineer, Prompt Engineer, AI Engineer, Full Stack Web Development, Big Data Engineering, Marketing Analyst, Human Resource Manager, Software Developer your task is to review the provided resume.\n",
    "    Please share your professional evaluation on whether the candidate's profile aligns with the role.ALso mention Skills he already have and siggest some skills to imorve his resume , alos suggest some course he might take to improve the skills.Highlight the strengths and weaknesses.\n",
    "\n",
    "    Resume:\n",
    "    {resume_text}\n",
    "    \"\"\"\n",
    "\n",
    "    if job_description:\n",
    "        base_prompt += f\"\"\"\n",
    "        Additionally, compare this resume to the following job description:\n",
    "        \n",
    "        Job Description:\n",
    "        {job_description}\n",
    "        \n",
    "        Highlight the strengths and weaknesses of the applicant in relation to the specified job requirements.\n",
    "        \"\"\"\n",
    "\n",
    "    response = model.generate_content(base_prompt)\n",
    "\n",
    "    analysis = response.text.strip()\n",
    "    return analysis"
   ]
  },
  {
   "cell_type": "code",
   "execution_count": 10,
   "metadata": {},
   "outputs": [
    {
     "name": "stdout",
     "output_type": "stream",
     "text": [
      "## Resume Evaluation for Sujoy Dutta - Machine Learning Engineer Role\n",
      "\n",
      "**Role Alignment:** Sujoy's resume is reasonably well-suited for entry-level Machine Learning Engineer roles. His projects demonstrate practical application of relevant skills, and his coursework aligns with the academic requirements. However, his resume could significantly benefit from improvements to highlight his achievements more effectively and showcase a deeper understanding of the field.\n",
      "\n",
      "\n",
      "**Strengths:**\n",
      "\n",
      "* **Relevant Projects:** The Movie Recommendation System and House Price Prediction projects are strong points, showcasing his ability to build functional applications using popular ML libraries.  The inclusion of quantifiable results (85% accuracy, 50% reduction in user input time, 15% improvement in precision) is excellent.\n",
      "* **Technical Skills:** He possesses a good foundation in programming languages (Python, Java, C++) and crucial ML/Data Analysis libraries (Scikit-learn, TensorFlow, Keras, Pandas, NumPy, Matplotlib, Seaborn, SQL).  Mentioning GANs is a plus, suggesting exposure to generative models.\n",
      "* **Academic Background:** KIIT is a reputable institution.  A GPA of 8.48/10 is strong.\n",
      "* **Extracurricular Activities:** Participation in GeeksforGeeks and AISoC demonstrates initiative and teamwork skills, which are valuable in a collaborative environment like software engineering.\n",
      "\n",
      "\n",
      "**Weaknesses:**\n",
      "\n",
      "* **Lack of Depth:** While the projects are good, the descriptions are somewhat superficial.  The resume lacks detail on the challenges faced, the solutions implemented, and the learnings gained.  Quantifiable results are good, but qualitative insights are missing.  For example, what specific feature engineering techniques were used?  What were the limitations of the models?  What hyperparameter tuning was performed?\n",
      "* **Limited Experience:** As a 3rd-year student, limited professional experience is expected. However, the resume could benefit from highlighting other relevant experiences, even if they are personal projects or contributions to open-source projects.\n",
      "* **Resume Structure:** The resume lacks a clear summary statement at the top.  This would allow for a concise and impactful introduction of his skills and aspirations.\n",
      "* **Generative AI Project:** The Generative AI project for predictive maintenance is mentioned but lacks detail.  This is a significant opportunity to showcase advanced skills.  This should be expanded upon.\n",
      "\n",
      "\n",
      "**Skills Sujoy Already Has:**\n",
      "\n",
      "* Python programming (with libraries like Scikit-learn, Pandas, NumPy, Matplotlib, Seaborn)\n",
      "* Machine Learning (Supervised and Unsupervised learning, GANs)\n",
      "* Deep Learning (TensorFlow, Keras)\n",
      "* Data Analysis and Visualization\n",
      "* SQL Database Management\n",
      "* Web Application Development (Streamlit)\n",
      "* Teamwork and Collaboration\n",
      "\n",
      "\n",
      "**Skills to Improve:**\n",
      "\n",
      "* **Model Deployment and MLOps:**  Demonstrating knowledge of deploying models to production environments is crucial.\n",
      "* **Cloud Computing (AWS, Azure, GCP):** Familiarity with cloud platforms is highly valuable in the industry.\n",
      "* **Version Control (Git):** While he mentions GitHub, emphasizing proficiency in Git workflows (branching, merging, pull requests) is important.\n",
      "* **Data Wrangling and Preprocessing:**  Highlighting advanced techniques in handling missing data, outliers, and feature scaling would be beneficial.\n",
      "* **Communication and Documentation:**  Improving the clarity and conciseness of project descriptions, and adding technical documentation to the GitHub repositories.\n",
      "* **Specific Machine Learning Algorithms:**  Going beyond basic algorithms and showcasing expertise in more advanced techniques (e.g., specific types of neural networks, time series analysis, reinforcement learning) depending on target job descriptions.\n",
      "\n",
      "\n",
      "**Suggested Courses:**\n",
      "\n",
      "* **Cloud Computing Fundamentals (AWS/Azure/GCP):**  Many providers offer introductory courses.\n",
      "* **MLOps:**  Courses on deploying and managing machine learning models in production.\n",
      "* **Advanced Machine Learning Techniques:**  Specializations in areas like deep learning, NLP, or time series analysis.\n",
      "* **Data Engineering:**  Courses covering data pipelines, ETL processes, and big data technologies.\n",
      "* **Technical Writing and Communication:**  Courses to improve his ability to clearly and concisely communicate technical information.\n",
      "\n",
      "\n",
      "**Overall Recommendation:**\n",
      "\n",
      "Sujoy has a solid foundation for a Machine Learning Engineer role.  By addressing the weaknesses mentioned above – particularly adding more detail to his projects, enhancing his technical skills (MLOps, Cloud Computing), and improving the structure and clarity of his resume – he will significantly increase his chances of landing a job.  The suggested courses will help him achieve this.  He should focus on projects that demonstrate his skills in these areas and quantify the impact of his contributions.\n"
     ]
    }
   ],
   "source": [
    "print(analyze_resume(resume_text))\n"
   ]
  }
 ],
 "metadata": {
  "kernelspec": {
   "display_name": "Python 3",
   "language": "python",
   "name": "python3"
  },
  "language_info": {
   "codemirror_mode": {
    "name": "ipython",
    "version": 3
   },
   "file_extension": ".py",
   "mimetype": "text/x-python",
   "name": "python",
   "nbconvert_exporter": "python",
   "pygments_lexer": "ipython3",
   "version": "3.12.4"
  }
 },
 "nbformat": 4,
 "nbformat_minor": 2
}
